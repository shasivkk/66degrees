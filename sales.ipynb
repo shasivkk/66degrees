{
 "cells": [
  {
   "cell_type": "code",
   "execution_count": 142,
   "outputs": [
    {
     "name": "stdout",
     "output_type": "stream",
     "text": [
      "/Users/sasikanthvutukuru/PycharmProjects/pythonProject/venv/lib/python3.9/site-packages/urllib3/__init__.py:35: NotOpenSSLWarning: urllib3 v2 only supports OpenSSL 1.1.1+, currently the 'ssl' module is compiled with 'LibreSSL 2.8.3'. See: https://github.com/urllib3/urllib3/issues/3020\r\n",
      "  warnings.warn(\r\n",
      "Warning: Your Kaggle API key is readable by other users on this system! To fix this, you can run 'chmod 600 /Users/sasikanthvutukuru/.kaggle/kaggle.json'\r\n",
      "ref                                                                  title                                            size  lastUpdated          downloadCount  voteCount  usabilityRating  \r\n",
      "-------------------------------------------------------------------  ----------------------------------------------  -----  -------------------  -------------  ---------  ---------------  \r\n",
      "aungpyaeap/supermarket-sales                                         Supermarket sales                                36KB  2019-05-27 07:08:04         295758       2621  0.88235295       \r\n",
      "yapwh1208/supermarket-sales-data                                     Supermarket Sales Data                            8MB  2023-09-22 01:06:21          14036        131  1.0              \r\n",
      "surajjha101/stores-area-and-sales-data                               Supermarket store branches sales analysis        10KB  2022-04-29 11:10:16          44139        711  1.0              \r\n",
      "lovishbansal123/sales-of-a-supermarket                               Sales of a Supermarket                           36KB  2024-03-26 12:38:06           8588         98  1.0              \r\n",
      "alexhuitron/supermarket-sales                                        Supermarket Sales                                36KB  2023-10-02 20:42:03           2619         41  0.88235295       \r\n",
      "faresashraf1001/supermarket-sales                                    Supermarket Sales Dataset                        37KB  2024-09-19 22:44:01           3313         40  0.88235295       \r\n",
      "agasca/retail-sales                                                  Supermarket Sales                               904KB  2018-10-06 00:02:52           3717         36  0.5882353        \r\n",
      "arunjangir245/super-market-sales                                     Super Market Sales                               36KB  2023-08-01 12:58:18           8383        152  1.0              \r\n",
      "muhammadehabmuhammad/supermarket-sales                               Supermarket Sales                                37KB  2023-11-01 15:59:59            182         33  0.5294118        \r\n",
      "roopacalistus/superstore                                             Retail Supermarket                              164KB  2022-11-01 05:48:24          11068         92  1.0              \r\n",
      "markmedhat/supermarket-sales                                         Supermarket sales                                  0B  2024-03-27 18:52:31           1073         70  0.29411766       \r\n",
      "mohamedelaziz/supermarket-sales                                      SuperMarket Sales                                36KB  2024-02-20 12:56:54            158         33  0.29411766       \r\n",
      "thedevastator/supermarket-ordering-invoicing-and-sales-analysi       Supermarket Ordering, Invoicing, and Sales        4MB  2023-01-15 15:37:10           4946         71  0.9411765        \r\n",
      "paramvir705/supermarket-sales                                        SuperMarket Sales                                  0B  2024-04-20 06:39:02            132          8  0.9411765        \r\n",
      "yapwh1208/students-score                                             Student's Scores                                  1KB  2023-06-29 14:36:45           5874         84  1.0              \r\n",
      "sindraanthony9985/marketing-data-for-a-supermarket-in-united-states  U.S. Supermarket Data                            68KB  2019-11-06 10:09:55           9437         88  0.7058824        \r\n",
      "shivan118/big-mart-sales-prediction-datasets                         Big Mart Sales Prediction Datasets              327KB  2020-10-04 04:08:36          12655         90  0.9411765        \r\n",
      "akashdeepkuila/big-mart-sales                                        Big Mart Sales                                  307KB  2021-09-16 16:56:18           8027         75  1.0              \r\n",
      "omercolakoglu/turkish-market-sales-dataset-with-9000items            Turkish Market Sales Dataset With 9.000+Items   101MB  2020-10-09 09:47:26           5166        266  0.47058824       \r\n",
      "akinbosede/kingston-supermarket-sales-dashboard                      kingston supermarket sales                      408KB  2024-01-13 17:26:13            329          7  0.8235294        \r\n"
     ]
    }
   ],
   "source": [
    "!kaggle datasets list -s \"Supermarket sales\""
   ],
   "metadata": {
    "collapsed": false
   }
  },
  {
   "cell_type": "code",
   "execution_count": 143,
   "outputs": [
    {
     "name": "stdout",
     "output_type": "stream",
     "text": [
      "/Users/sasikanthvutukuru/PycharmProjects/pythonProject/venv/lib/python3.9/site-packages/urllib3/__init__.py:35: NotOpenSSLWarning: urllib3 v2 only supports OpenSSL 1.1.1+, currently the 'ssl' module is compiled with 'LibreSSL 2.8.3'. See: https://github.com/urllib3/urllib3/issues/3020\r\n",
      "  warnings.warn(\r\n",
      "Warning: Your Kaggle API key is readable by other users on this system! To fix this, you can run 'chmod 600 /Users/sasikanthvutukuru/.kaggle/kaggle.json'\r\n",
      "Dataset URL: https://www.kaggle.com/datasets/aungpyaeap/supermarket-sales\r\n",
      "License(s): other\r\n",
      "supermarket-sales.zip: Skipping, found more recently modified local copy (use --force to force download)\r\n"
     ]
    }
   ],
   "source": [
    "!kaggle datasets download -p data -d \"aungpyaeap/supermarket-sales\""
   ],
   "metadata": {
    "collapsed": false
   }
  },
  {
   "cell_type": "code",
   "execution_count": null,
   "outputs": [
    {
     "name": "stdout",
     "output_type": "stream",
     "text": [
      "Archive:  data/supermarket-sales.zip\r\n",
      "replace supermarket_sales - Sheet1.csv? [y]es, [n]o, [A]ll, [N]one, [r]ename: "
     ]
    }
   ],
   "source": [
    "!unzip data/supermarket-sales.zip"
   ],
   "metadata": {
    "collapsed": false,
    "pycharm": {
     "is_executing": true
    }
   }
  },
  {
   "cell_type": "markdown",
   "source": [
    "Create the spark session and read file\n"
   ],
   "metadata": {
    "collapsed": false
   }
  },
  {
   "cell_type": "code",
   "execution_count": null,
   "outputs": [],
   "source": [
    "from pyspark.sql import SparkSession\n",
    "import os\n",
    "\n",
    "# Create a SparkSession\n",
    "spark = SparkSession.builder \\\n",
    "    .appName(\"SQLite JDBC\") \\\n",
    "    .config(\"spark.jars\", f\"{os.getcwd()}/sqlite-jdbc-3.47.0.0.jar\") \\\n",
    "    .config(\"spark.driver.extraClassPath\", f\"{os.getcwd()}/sqlite-jdbc-3.34.0.jar\") \\\n",
    "    .getOrCreate()"
   ],
   "metadata": {
    "collapsed": false
   }
  },
  {
   "cell_type": "code",
   "execution_count": null,
   "outputs": [],
   "source": [
    "# Read the CSV file\n",
    "df = spark.read.csv(\"data/supermarket_sales - Sheet1.csv\", header=True, inferSchema=True)\n",
    "\n",
    "# Show the first few rows of the DataFrame\n",
    "df.show(5)"
   ],
   "metadata": {
    "collapsed": false
   }
  },
  {
   "cell_type": "markdown",
   "source": [
    "Check for null and duplicates"
   ],
   "metadata": {
    "collapsed": false
   }
  },
  {
   "cell_type": "code",
   "execution_count": null,
   "outputs": [],
   "source": [
    "# Check for any null values\n",
    "from functools import reduce\n",
    "from pyspark.sql import functions as F\n",
    "\n",
    "cols = [F.col(c) for c in df.columns]\n",
    "filter_expr = reduce(lambda a, b: a | b.isNull(), cols[1:], cols[0].isNull())\n",
    "df.filter(filter_expr).show()\n"
   ],
   "metadata": {
    "collapsed": false
   }
  },
  {
   "cell_type": "code",
   "execution_count": null,
   "outputs": [],
   "source": [
    "# Check for dupliactes\n",
    "df = df.groupBy(df.columns).agg(F.count(\"*\").alias(\"count\"))\n",
    "duplicates = df.filter(\"count > 1\")\n",
    "duplicates.show()"
   ],
   "metadata": {
    "collapsed": false
   }
  },
  {
   "cell_type": "markdown",
   "source": [
    "Fromat column names"
   ],
   "metadata": {
    "collapsed": false
   }
  },
  {
   "cell_type": "code",
   "execution_count": null,
   "outputs": [],
   "source": [
    "from pyspark.sql import functions as F\n",
    "from pyspark.sql.functions import date_format,monotonically_increasing_id,to_date, col,to_timestamp,concat\n",
    "from pyspark.sql import functions as F\n",
    "df = df.select([F.col(col).alias(col.replace(' ', '_')) for col in df.columns])\n",
    "\n",
    "for col in df.columns:\n",
    "    df = df.withColumnRenamed(col, col.lower())\n"
   ],
   "metadata": {
    "collapsed": false
   }
  },
  {
   "cell_type": "code",
   "execution_count": null,
   "outputs": [],
   "source": [
    "df.columns"
   ],
   "metadata": {
    "collapsed": false
   }
  },
  {
   "cell_type": "markdown",
   "source": [
    "Check Schema and cast dates and timestamps correctly"
   ],
   "metadata": {
    "collapsed": false
   }
  },
  {
   "cell_type": "code",
   "execution_count": null,
   "outputs": [],
   "source": [
    "df.printSchema()"
   ],
   "metadata": {
    "collapsed": false
   }
  },
  {
   "cell_type": "code",
   "execution_count": null,
   "outputs": [],
   "source": [
    "df = df.withColumn(\"time_of_p\", date_format(\"time\", \"HH:mm:ss\"))\n",
    "df = df.withColumn(\"time_of_purchase\", to_timestamp(concat(df.date, df.time_of_p), \"M/d/yyyyHH:mm:ss\"))\n",
    "df = df.withColumn(\"date_of_purchase\", to_date(\"date\", \"M/d/yyyy\"))\n",
    "df = df.drop(\"time\",\"date\",\"time_of_p\")\n"
   ],
   "metadata": {
    "collapsed": false
   }
  },
  {
   "cell_type": "markdown",
   "source": [
    "Extract branch and city , for the dimension table"
   ],
   "metadata": {
    "collapsed": false
   }
  },
  {
   "cell_type": "code",
   "execution_count": null,
   "outputs": [],
   "source": [
    "branch_city_df = df.select(\"Branch\", \"City\").dropDuplicates().orderBy(\"Branch\")"
   ],
   "metadata": {
    "collapsed": false
   }
  },
  {
   "cell_type": "code",
   "execution_count": null,
   "outputs": [],
   "source": [
    "branch_city_df.show()"
   ],
   "metadata": {
    "collapsed": false
   }
  },
  {
   "cell_type": "code",
   "execution_count": null,
   "outputs": [],
   "source": [
    "branch_city_df = branch_city_df.withColumn(\"branch_id\", monotonically_increasing_id()+1)"
   ],
   "metadata": {
    "collapsed": false
   }
  },
  {
   "cell_type": "code",
   "execution_count": null,
   "outputs": [],
   "source": [
    "branch_city_df.show()"
   ],
   "metadata": {
    "collapsed": false
   }
  },
  {
   "cell_type": "code",
   "execution_count": null,
   "outputs": [],
   "source": [
    "df.columns"
   ],
   "metadata": {
    "collapsed": false
   }
  },
  {
   "cell_type": "markdown",
   "source": [
    "Left branch and city to main dataframe to replace these with an id, so the sales data can be prepared for sales facts, and customer dimension"
   ],
   "metadata": {
    "collapsed": false
   }
  },
  {
   "cell_type": "code",
   "execution_count": null,
   "outputs": [],
   "source": [
    "df_with_branch_city = df.join(branch_city_df,[\"Branch\",\"City\"],\"left\")"
   ],
   "metadata": {
    "collapsed": false
   }
  },
  {
   "cell_type": "code",
   "execution_count": null,
   "outputs": [],
   "source": [
    "df_with_branch_city.show(5)"
   ],
   "metadata": {
    "collapsed": false
   }
  },
  {
   "cell_type": "code",
   "execution_count": null,
   "outputs": [],
   "source": [
    "df_with_branch_city = df_with_branch_city.drop(\"Branch\",\"City\")"
   ],
   "metadata": {
    "collapsed": false
   }
  },
  {
   "cell_type": "code",
   "execution_count": null,
   "outputs": [],
   "source": [
    "df_with_branch_city.show(5)"
   ],
   "metadata": {
    "collapsed": false
   }
  },
  {
   "cell_type": "code",
   "execution_count": null,
   "outputs": [],
   "source": [
    "customer_unique_df = df.select(\"customer_type\", \"gender\",\"payment\").dropDuplicates().orderBy(\"customer_type\",\"payment\",\"gender\")\n",
    "customer_unique_df_id = customer_unique_df.withColumn(\"cust_info_id\", monotonically_increasing_id()+1)\n"
   ],
   "metadata": {
    "collapsed": false
   }
  },
  {
   "cell_type": "code",
   "execution_count": null,
   "outputs": [],
   "source": [
    "customer_unique_df.show()"
   ],
   "metadata": {
    "collapsed": false
   }
  },
  {
   "cell_type": "code",
   "execution_count": null,
   "outputs": [],
   "source": [
    "customer_unique_df_id.show()"
   ],
   "metadata": {
    "collapsed": false
   }
  },
  {
   "cell_type": "code",
   "execution_count": null,
   "outputs": [],
   "source": [
    "df_with_customer_info = df_with_branch_city.join(customer_unique_df_id,[\"customer_type\",\"gender\",\"payment\"],\"left\")\n"
   ],
   "metadata": {
    "collapsed": false
   }
  },
  {
   "cell_type": "code",
   "execution_count": null,
   "outputs": [],
   "source": [
    "df_with_customer_info.show()"
   ],
   "metadata": {
    "collapsed": false
   }
  },
  {
   "cell_type": "code",
   "execution_count": null,
   "outputs": [],
   "source": [
    "df_with_customer_info = df_with_customer_info.drop(\"customer_type\",\"gender\",\"payment\")"
   ],
   "metadata": {
    "collapsed": false
   }
  },
  {
   "cell_type": "code",
   "execution_count": null,
   "outputs": [],
   "source": [
    "df_with_customer_info.show()"
   ],
   "metadata": {
    "collapsed": false
   }
  },
  {
   "cell_type": "markdown",
   "source": [
    "The sales data is ready"
   ],
   "metadata": {
    "collapsed": false
   }
  },
  {
   "cell_type": "code",
   "execution_count": null,
   "outputs": [],
   "source": [
    "sales_df = df_with_customer_info"
   ],
   "metadata": {
    "collapsed": false
   }
  },
  {
   "cell_type": "markdown",
   "source": [
    "Generated 3 dataframes.\n",
    "1.branch_city_df - Branch & City Dimension dataframe\n",
    "2.customer_unique_df_id - Customer information dimension dataframe\n",
    "3.sales_df - Sales facts"
   ],
   "metadata": {
    "collapsed": false
   }
  },
  {
   "cell_type": "markdown",
   "source": [
    "Check schema, correct as needed and write to database."
   ],
   "metadata": {
    "collapsed": false
   }
  },
  {
   "cell_type": "code",
   "execution_count": null,
   "outputs": [],
   "source": [
    "branch_city_df.printSchema()"
   ],
   "metadata": {
    "collapsed": false
   }
  },
  {
   "cell_type": "code",
   "execution_count": null,
   "outputs": [],
   "source": [
    "customer_unique_df_id.printSchema()"
   ],
   "metadata": {
    "collapsed": false
   }
  },
  {
   "cell_type": "code",
   "execution_count": null,
   "outputs": [],
   "source": [
    "sales_df.printSchema()"
   ],
   "metadata": {
    "collapsed": false
   }
  },
  {
   "cell_type": "code",
   "execution_count": null,
   "outputs": [],
   "source": [
    "sales_df.show()"
   ],
   "metadata": {
    "collapsed": false
   }
  },
  {
   "cell_type": "code",
   "execution_count": null,
   "outputs": [],
   "source": [
    "# sales_df.write.format(\"jdbc\") \\\n",
    "#     .option(\"url\", \"jdbc:sqlite:66degrees.db\") \\\n",
    "#     .option(\"dbtable\", \"your_table_name\") \\\n",
    "#     .mode(\"overwrite\") \\\n",
    "#     .save()"
   ],
   "metadata": {
    "collapsed": false
   }
  },
  {
   "cell_type": "code",
   "execution_count": null,
   "outputs": [],
   "source": [
    "import sqlite3\n",
    "import pandas as pd\n",
    "sqliteConnection = sqlite3.connect('66sales.sqlite')\n"
   ],
   "metadata": {
    "collapsed": false
   }
  },
  {
   "cell_type": "code",
   "execution_count": null,
   "outputs": [],
   "source": [
    "cursor = sqliteConnection.cursor()\n",
    "\n",
    "query = \"select sqlite_version();\"\n",
    "cursor.execute(query)\n",
    "result = cursor.fetchall()\n",
    "print('SQLite Version is {}'.format(result))"
   ],
   "metadata": {
    "collapsed": false
   }
  },
  {
   "cell_type": "code",
   "execution_count": null,
   "outputs": [],
   "source": [
    "sales_df_pandas = sales_df.toPandas()"
   ],
   "metadata": {
    "collapsed": false
   }
  },
  {
   "cell_type": "code",
   "execution_count": null,
   "outputs": [],
   "source": [
    "sales_df_pandas.columns"
   ],
   "metadata": {
    "collapsed": false
   }
  },
  {
   "cell_type": "code",
   "execution_count": null,
   "outputs": [],
   "source": [],
   "metadata": {
    "collapsed": false
   }
  },
  {
   "cell_type": "code",
   "execution_count": null,
   "outputs": [],
   "source": [
    "type(sales_df_pandas)"
   ],
   "metadata": {
    "collapsed": false
   }
  },
  {
   "cell_type": "code",
   "execution_count": null,
   "outputs": [],
   "source": [
    "\n",
    "sales_df_pandas['date_of_purchase'] = pd.to_datetime(sales_df_pandas['date_of_purchase'])"
   ],
   "metadata": {
    "collapsed": false
   }
  },
  {
   "cell_type": "code",
   "execution_count": null,
   "outputs": [],
   "source": [
    "sales_df_pandas.dtypes"
   ],
   "metadata": {
    "collapsed": false
   }
  },
  {
   "cell_type": "code",
   "execution_count": null,
   "outputs": [],
   "source": [
    "sales_df_pandas.to_sql(name='sales',con=sqliteConnection,if_exists='replace', index=False)"
   ],
   "metadata": {
    "collapsed": false
   }
  },
  {
   "cell_type": "code",
   "execution_count": null,
   "outputs": [],
   "source": [
    "customer_unique_df_id.show()"
   ],
   "metadata": {
    "collapsed": false
   }
  },
  {
   "cell_type": "code",
   "execution_count": null,
   "outputs": [],
   "source": [
    "customer_pd_df = customer_unique_df_id.toPandas()"
   ],
   "metadata": {
    "collapsed": false
   }
  },
  {
   "cell_type": "code",
   "execution_count": null,
   "outputs": [],
   "source": [
    "customer_pd_df.to_sql(name='customer',con=sqliteConnection)"
   ],
   "metadata": {
    "collapsed": false
   }
  },
  {
   "cell_type": "code",
   "execution_count": null,
   "outputs": [],
   "source": [
    "branch_city_df.show()"
   ],
   "metadata": {
    "collapsed": false
   }
  },
  {
   "cell_type": "code",
   "execution_count": null,
   "outputs": [],
   "source": [
    "df_branch_city_pd = branch_city_df.toPandas()"
   ],
   "metadata": {
    "collapsed": false
   }
  },
  {
   "cell_type": "code",
   "execution_count": null,
   "outputs": [],
   "source": [
    "df_branch_city_pd.to_sql(name='branch',con=sqliteConnection)"
   ],
   "metadata": {
    "collapsed": false
   }
  },
  {
   "cell_type": "code",
   "execution_count": null,
   "outputs": [],
   "source": [],
   "metadata": {
    "collapsed": false
   }
  }
 ],
 "metadata": {
  "kernelspec": {
   "display_name": "Python 3",
   "language": "python",
   "name": "python3"
  },
  "language_info": {
   "codemirror_mode": {
    "name": "ipython",
    "version": 2
   },
   "file_extension": ".py",
   "mimetype": "text/x-python",
   "name": "python",
   "nbconvert_exporter": "python",
   "pygments_lexer": "ipython2",
   "version": "2.7.6"
  }
 },
 "nbformat": 4,
 "nbformat_minor": 0
}
